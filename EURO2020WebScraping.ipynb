{
  "nbformat": 4,
  "nbformat_minor": 0,
  "metadata": {
    "colab": {
      "name": "EURO2020WebScraping.ipynb",
      "provenance": [],
      "authorship_tag": "ABX9TyOtijKeNhN3UXWLEEfzvNjI",
      "include_colab_link": true
    },
    "kernelspec": {
      "name": "python3",
      "display_name": "Python 3"
    },
    "language_info": {
      "name": "python"
    }
  },
  "cells": [
    {
      "cell_type": "markdown",
      "metadata": {
        "id": "view-in-github",
        "colab_type": "text"
      },
      "source": [
        "<a href=\"https://colab.research.google.com/github/7evenights/pythondiary/blob/main/EURO2020WebScraping.ipynb\" target=\"_parent\"><img src=\"https://colab.research.google.com/assets/colab-badge.svg\" alt=\"Open In Colab\"/></a>"
      ]
    },
    {
      "cell_type": "code",
      "metadata": {
        "id": "yZ1UxkECJqoU"
      },
      "source": [
        "import requests\n",
        "from bs4 import BeautifulSoup\n",
        "import pprint as pprint"
      ],
      "execution_count": 106,
      "outputs": []
    },
    {
      "cell_type": "code",
      "metadata": {
        "id": "dnI9xaGzK7Wj"
      },
      "source": [
        "url = \"https://www.eurosport.com/football/calendar-result_evt36881.shtml\""
      ],
      "execution_count": 107,
      "outputs": []
    },
    {
      "cell_type": "code",
      "metadata": {
        "id": "lWiorGv3FzQU"
      },
      "source": [
        "try:\n",
        "    r = requests.get(url)\n",
        "except:\n",
        "    print(\"Can't connect to website, Please check your url agian\")\n"
      ],
      "execution_count": 108,
      "outputs": []
    },
    {
      "cell_type": "code",
      "metadata": {
        "id": "-oEALfntGTgu"
      },
      "source": [
        "html_page = BeautifulSoup(r.text, \"html.parser\")\n"
      ],
      "execution_count": null,
      "outputs": []
    },
    {
      "cell_type": "code",
      "metadata": {
        "id": "9pmQris2HI33"
      },
      "source": [
        "teamname = html_page.find_all(\"div\", class_=\"team--match\")"
      ],
      "execution_count": null,
      "outputs": []
    },
    {
      "cell_type": "code",
      "metadata": {
        "id": "Yi6_HAqKHgYY"
      },
      "source": [
        "score = html_page.find_all(\"div\", class_=\"match__scores\")"
      ],
      "execution_count": null,
      "outputs": []
    },
    {
      "cell_type": "code",
      "metadata": {
        "colab": {
          "base_uri": "https://localhost:8080/"
        },
        "id": "KGRrjFgXKcGN",
        "outputId": "a9247402-5c2f-449a-f59e-c0c2c9a7d685"
      },
      "source": [
        "first_team = 0\n",
        "second_team = 1\n",
        "print(\"GROUP STAGE  RESULT\")\n",
        "for i in range(0, len(score)):\n",
        "    print(f\"{teamname[first_team].text} {score[i].text} {teamname[second_team].text}\")\n",
        "    first_team+= 2\n",
        "    second_team+=2"
      ],
      "execution_count": 123,
      "outputs": [
        {
          "output_type": "stream",
          "text": [
            "GROUP STAGE  RESULT\n",
            "Turkey 0 - 3 Italy\n",
            "Wales 1 - 1 Switzerland\n",
            "Denmark 0 - 1 Finland\n",
            "Belgium 3 - 0 Russia\n",
            "England 1 - 0 Croatia\n",
            "Austria 3 - 1 North Macedonia\n",
            "Netherlands 3 - 2 Ukraine\n",
            "Scotland 0 - 2 Czech Republic\n",
            "Poland 1 - 2 Slovakia\n",
            "Spain 0 - 0 Sweden\n",
            "Hungary 0 - 3 Portugal\n",
            "France 1 - 0 Germany\n",
            "Finland 0 - 1 Russia\n",
            "Turkey 0 - 2 Wales\n",
            "Italy 3 - 0 Switzerland\n",
            "Ukraine 2 - 1 North Macedonia\n",
            "Denmark 1 - 2 Belgium\n",
            "Netherlands 2 - 0 Austria\n",
            "Sweden 1 - 0 Slovakia\n",
            "Croatia 1 - 1 Czech Republic\n",
            "England 0 - 0 Scotland\n",
            "Hungary 1 - 1 France\n",
            "Portugal 2 - 4 Germany\n",
            "Spain 1 - 1 Poland\n",
            "Italy 1 - 0 Wales\n",
            "Switzerland 3 - 1 Turkey\n"
          ],
          "name": "stdout"
        }
      ]
    },
    {
      "cell_type": "markdown",
      "metadata": {
        "id": "IILWfahNU4RD"
      },
      "source": [
        "Final Code"
      ]
    },
    {
      "cell_type": "code",
      "metadata": {
        "colab": {
          "base_uri": "https://localhost:8080/"
        },
        "id": "OsaR_o97U6se",
        "outputId": "c600c716-a466-4194-eec1-d673a8c08d7b"
      },
      "source": [
        "import requests\n",
        "from bs4 import BeautifulSoup\n",
        "import pprint as pprint\n",
        "\n",
        "url = \"https://www.eurosport.com/football/calendar-result_evt36881.shtml\"\n",
        "\n",
        "try:\n",
        "    r = requests.get(url)\n",
        "except:\n",
        "    print(\"Can't connect to website, Please check your url agian\")\n",
        "\n",
        "html_page = BeautifulSoup(r.text, \"html.parser\")\n",
        "teamname = html_page.find_all(\"div\", class_=\"team--match\")\n",
        "score = html_page.find_all(\"div\", class_=\"match__scores\")\n",
        "\n",
        "first_team = 0\n",
        "second_team = 1\n",
        "print(\"GROUP STAGE  RESULT\")\n",
        "for i in range(0, len(score)):\n",
        "    print(f\"{teamname[first_team].text} {score[i].text} {teamname[second_team].text}\")\n",
        "    first_team+= 2\n",
        "    second_team+=2\n",
        "\n"
      ],
      "execution_count": 124,
      "outputs": [
        {
          "output_type": "stream",
          "text": [
            "GROUP STAGE  RESULT\n",
            "Turkey 0 - 3 Italy\n",
            "Wales 1 - 1 Switzerland\n",
            "Denmark 0 - 1 Finland\n",
            "Belgium 3 - 0 Russia\n",
            "England 1 - 0 Croatia\n",
            "Austria 3 - 1 North Macedonia\n",
            "Netherlands 3 - 2 Ukraine\n",
            "Scotland 0 - 2 Czech Republic\n",
            "Poland 1 - 2 Slovakia\n",
            "Spain 0 - 0 Sweden\n",
            "Hungary 0 - 3 Portugal\n",
            "France 1 - 0 Germany\n",
            "Finland 0 - 1 Russia\n",
            "Turkey 0 - 2 Wales\n",
            "Italy 3 - 0 Switzerland\n",
            "Ukraine 2 - 1 North Macedonia\n",
            "Denmark 1 - 2 Belgium\n",
            "Netherlands 2 - 0 Austria\n",
            "Sweden 1 - 0 Slovakia\n",
            "Croatia 1 - 1 Czech Republic\n",
            "England 0 - 0 Scotland\n",
            "Hungary 1 - 1 France\n",
            "Portugal 2 - 4 Germany\n",
            "Spain 1 - 1 Poland\n",
            "Italy 1 - 0 Wales\n",
            "Switzerland 3 - 1 Turkey\n",
            "Ukraine 0 - 0 Austria\n",
            "North Macedonia 0 - 0 Netherlands\n"
          ],
          "name": "stdout"
        }
      ]
    }
  ]
}